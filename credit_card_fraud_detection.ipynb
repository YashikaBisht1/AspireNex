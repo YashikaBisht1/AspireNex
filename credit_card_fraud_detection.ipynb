import pandas as pd
import numpy as np
import matplotlib.pyplot as plt
import seaborn as sns

# Load the dataset
df = pd.read_csv('creditcard.csv')

# Display the first few rows
print(df.head())

# Display basic information about the dataset
print(df.info())

# Check for missing values
print(df.isnull().sum())

# Explore the target variable distribution
print(df['Class'].value_counts(normalize=True))

# Plot the target variable distribution
sns.countplot(x='Class', data=df)
plt.title('Class Distribution')
plt.show()
